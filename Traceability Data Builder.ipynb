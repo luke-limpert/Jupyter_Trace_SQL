{
 "cells": [
  {
   "cell_type": "code",
   "execution_count": 99,
   "metadata": {},
   "outputs": [],
   "source": [
    "file1 = open(\"TraceDP.txt\", \"r\")\n",
    "Lines = file1.readlines()"
   ]
  },
  {
   "cell_type": "code",
   "execution_count": 120,
   "metadata": {},
   "outputs": [],
   "source": [
    "ServerData = []\n",
    "import re\n",
    "for x in Lines:\n",
    "    if \"\\n\" in x:\n",
    "        x = re.sub(\"\\n\", \"\", x)\n",
    "        ServerData.append(x)\n",
    "    else:\n",
    "        ServerData.append(x)\n",
    "file1.close()"
   ]
  },
  {
   "cell_type": "markdown",
   "metadata": {},
   "source": [
    "__Import all necessary packages__"
   ]
  },
  {
   "cell_type": "code",
   "execution_count": 102,
   "metadata": {},
   "outputs": [],
   "source": [
    "import pandas as pd\n",
    "from pandas import Series, DataFrame\n",
    "import numpy as np\n",
    "import matplotlib.pyplot as plt\n",
    "from time import time\n",
    "import pyodbc\n",
    "import os\n",
    "import time"
   ]
  },
  {
   "cell_type": "markdown",
   "metadata": {},
   "source": [
    "__Set plot inline__"
   ]
  },
  {
   "cell_type": "code",
   "execution_count": 103,
   "metadata": {},
   "outputs": [],
   "source": [
    "%matplotlib inline"
   ]
  },
  {
   "cell_type": "markdown",
   "metadata": {},
   "source": [
    "__Initialize Database Credentials__"
   ]
  },
  {
   "cell_type": "code",
   "execution_count": 110,
   "metadata": {},
   "outputs": [],
   "source": [
    "SERVER_NAME = ServerData[4]\n",
    "DATABASE_NAME = ServerData[1]\n",
    "USERID = ServerData[2]\n",
    "PASSWORD = ServerData[3]\n",
    "DB_DRIVER = \"SQL Server\""
   ]
  },
  {
   "cell_type": "code",
   "execution_count": 111,
   "metadata": {},
   "outputs": [],
   "source": [
    "driver = 'DRIVER={' + DB_DRIVER + '}'\n",
    "server = 'SERVER=' + SERVER_NAME \n",
    "database = 'DATABASE=' + DATABASE_NAME\n",
    "uid = 'UID=' + USERID \n",
    "pwd = 'PWD=' + PASSWORD"
   ]
  },
  {
   "cell_type": "code",
   "execution_count": 112,
   "metadata": {},
   "outputs": [],
   "source": [
    "CONNECTION_STRING = ';'.join([driver,server,database,uid,pwd])\n",
    "conn = pyodbc.connect(CONNECTION_STRING)"
   ]
  },
  {
   "cell_type": "markdown",
   "metadata": {},
   "source": [
    "Run the cell below for changeover information"
   ]
  },
  {
   "cell_type": "code",
   "execution_count": 118,
   "metadata": {},
   "outputs": [],
   "source": [
    "Changeover = pd.read_sql('''select [$Table].[WorkCenterCode],\n",
    "    [$Table].[ProductPartCode],\n",
    "    [$Table].[ProductPartAltCode],\n",
    "    [$Table].[StartDateTime],\n",
    "    [$Table].[EndDateTime]\n",
    "from [ext].[ft_Changeover](null, null, null) as [$Table]''', conn)"
   ]
  },
  {
   "cell_type": "markdown",
   "metadata": {},
   "source": [
    "Run the cells below for lotData information. Use the immediate next block to specify the values for each field."
   ]
  },
  {
   "cell_type": "code",
   "execution_count": 119,
   "metadata": {},
   "outputs": [],
   "source": [
    "LotData = pd.read_sql('''select [$Table].[WorkCenterCode],\n",
    "    [$Table].[LotCode],\n",
    "    [$Table].[ProductPartCode],\n",
    "    [$Table].[DataDescription],\n",
    "    [$Table].[DataValue],\n",
    "    [$Table].[RecordedDateTime],\n",
    "    [$Table].[UOM],\n",
    "    [$Table].[PrimaryOperator]\n",
    "from [ext].[ft_LotData]('2020-01-01 00:00:00-05:00', '2020-01-01 00:00:00-05:00', null, 'DP1RB035') as [$Table]''', conn)"
   ]
  },
  {
   "cell_type": "markdown",
   "metadata": {},
   "source": [
    "Replace '2020-01-01 00:00:00-05:00' with Start Time  \n",
    "  \n",
    "Replace '2020-01-01 00:00:00-05:00' with End Time  \n",
    "  \n",
    "Replace null with DataCode  \n",
    "  \n",
    "Replace 'DP1RB035' with WorkCenter"
   ]
  },
  {
   "cell_type": "code",
   "execution_count": null,
   "metadata": {},
   "outputs": [],
   "source": []
  }
 ],
 "metadata": {
  "kernelspec": {
   "display_name": "Python 3",
   "language": "python",
   "name": "python3"
  },
  "language_info": {
   "codemirror_mode": {
    "name": "ipython",
    "version": 3
   },
   "file_extension": ".py",
   "mimetype": "text/x-python",
   "name": "python",
   "nbconvert_exporter": "python",
   "pygments_lexer": "ipython3",
   "version": "3.7.6"
  }
 },
 "nbformat": 4,
 "nbformat_minor": 4
}
